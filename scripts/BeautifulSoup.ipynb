{
 "cells": [
  {
   "cell_type": "markdown",
   "metadata": {},
   "source": [
    "### This script parses the raw XML files. It is used to create the TXT files and an intermediate annotation CSV file that includes the tags made by the Ibsen center."
   ]
  },
  {
   "cell_type": "code",
   "execution_count": null,
   "metadata": {},
   "outputs": [],
   "source": [
    "from bs4 import BeautifulSoup\n",
    "import pandas as pd\n",
    "import re\n",
    "import os\n",
    "import glob\n",
    "\n",
    "pd.set_option('display.max_colwidth', None)"
   ]
  },
  {
   "cell_type": "markdown",
   "metadata": {},
   "source": [
    "Testing the different functionalities of Beautifoulsoup4"
   ]
  },
  {
   "cell_type": "code",
   "execution_count": 2,
   "metadata": {},
   "outputs": [],
   "source": [
    "xml_doc = \"\"\" <?xml version=\"1.0\" encoding=\"UTF-8\"?><text xmlns=\"http://www.tei-c.org/ns/1.0\" xmlns:HIS=\"http://www.example.org/ns/HIS\" rend=\"letter\" corresp=\"B18630810CP\" xml:lang=\"da-no\">\n",
    "<body>\n",
    "<div type=\"letter\">\n",
    "<dateline>\n",
    "                            <pb n=\"[1]\"/>Christiania <date>10/8. 63</date>.</dateline>\n",
    "<salute>Hr: Clemens Petersen.</salute>\n",
    "<p>Jeg kan aldrig <anchor type=\"lemma\" xml:id=\"koB12_797\"/>komme af med Brevskrivning, navnlig fordi jeg har en Mistanke om at man paa mit Forfatterskab i denne Retning med adskillig Grund kan anvende <anchor type=\"lemma\" xml:id=\"koB12_798\"/>den Charakteristik, hvormed De, som det forekommer mig temmelig haardt, betegner min Prosa ialmindelighed; <HIS:hisRef type=\"tcNote\" xml:id=\"noteT12_196\" target=\"B1844-1871ht_noter.xml\" corresp=\"noteT12_196\">alligevel</HIS:hisRef> maa jeg dog tilskrive Dem etpar Linjer for oprigtigt og hjerteligt at takke for <anchor type=\"lemma\" xml:id=\"koB12_799\"/>Deres Anmeldelse af min Bog. Jeg takker Dem baade for hvad jeg kan være enig med Dem i (hvilket ikke blot og bart er de for mig smigrende Partier af Kritiken) og for hvad jeg, naar jeg engang bliver saa heldig personlig at træffe Dem, ialfald vil <emph>forsøge</emph> at disputere om. Navnlig takker jeg Dem fordi jeg seer at De dog igrunden ikke har saameget imod mig, som jeg hidindtil instinktmæssig har indbildt mig; dette har for mig en Vægt, som maaske ikke vil være let at gjøre Dem indlysende, der ikke kjender til i hvilken forfærdelig Grad jeg gaar sjæleligt allene heroppe. Mine «Venners» <pb n=\"[2]\"/>Opfatning af mig gjør mig forresten ingen Skade; jeg seer, angaaende mig selv, i ethvert Punkt klarere end alle mine Venner – og dette sandelig ikke til min Fordel. – <anchor type=\"lemma\" xml:id=\"koB12_800\"/>Jeg skriver nu paa <HIS:hisRef type=\"work\" target=\"Navneregister_HISe.xml#woKE\">et historisk Skuespil i 5 Akter</HIS:hisRef>, – men i Prosa, jeg <emph>kan</emph> ikke skrive det i Vers. – De gjør mig lidt Uret naar De antyder at jeg har forsøgt paa at ville ligne <HIS:hisRef type=\"person\" target=\"Navneregister_HISe.xml#peBB\">Bjørnson</HIS:hisRef>; <HIS:hisRef type=\"work\" target=\"Navneregister_HISe.xml#woF1\">\n",
    "                                <anchor type=\"lemma\" xml:id=\"koB12_801\"/>«Fru Inger til Østeraad»</HIS:hisRef> og <HIS:hisRef type=\"work\" target=\"Navneregister_HISe.xml#woHH\">\n",
    "                                <anchor type=\"lemma\" xml:id=\"koB12_802\"/>«Hærmændene paa Helgeland»</HIS:hisRef> er skrevne <anchor type=\"lemma\" xml:id=\"koB12_803\"/>forinden B: endnu havde digtet en Linje. (NB: det er muligt at «Mellem Slagene» var til paa den Tid jeg skrev «Hærmændene» men kom ikke og kunde ikke komme mig for Øje). – Hvad <HIS:hisRef type=\"work\" target=\"Navneregister_HISe.xml#woKK\">\n",
    "                                <anchor type=\"lemma\" xml:id=\"koB12_804\"/>«Kjærlighedens Komedie»</HIS:hisRef> angaar, saa kan jeg forsikkre Dem, at har det nogensinde været en Nødvendighed for en Forfatter at skille sig af med en Stemning og et Stof, saa var det Tilfældet <anchor type=\"lemma\" xml:id=\"koB12_805\"/>da jeg gik ivej med dette Arbejde. – <anchor type=\"lemma\" xml:id=\"koB12_806\"/>Deres venlige Raad at indsende «Fru Inger» til <HIS:hisRef type=\"org\" target=\"Navneregister_HISe.xml#orgKT\">det kgl: Theater</HIS:hisRef> skal jeg følge; gid jeg blot maatte gribe Tingen paa den rette Maade og at den maatte lykkes. Disse Linjer til Tak har det været mig en Trang at sende Dem idet jeg varmt og levende føler at De har gjort en god Gjerning mod mig ved ikke at lægge min Bog tilside i Taushed.</p>\n",
    "<salute>Deres forbundne</salute>\n",
    "<signed>Henr: Ibsen</signed>\n",
    "</div>\n",
    "</body>\n",
    "</text> \"\"\""
   ]
  },
  {
   "cell_type": "code",
   "execution_count": 3,
   "metadata": {},
   "outputs": [],
   "source": [
    "soup = BeautifulSoup(xml_doc, 'xml')"
   ]
  },
  {
   "cell_type": "code",
   "execution_count": 4,
   "metadata": {},
   "outputs": [
    {
     "name": "stdout",
     "output_type": "stream",
     "text": [
      "et historisk Skuespil i 5 Akter\n",
      "\n",
      "«Fru Inger til Østeraad»\n",
      "\n",
      "«Hærmændene paa Helgeland»\n",
      "\n",
      "«Kjærlighedens Komedie»\n"
     ]
    }
   ],
   "source": [
    "h = soup.find_all(attrs={\"type\": \"work\"})\n",
    "for i in h:\n",
    "    n = i.get_text()\n",
    "    print(n)"
   ]
  },
  {
   "cell_type": "code",
   "execution_count": 5,
   "metadata": {},
   "outputs": [
    {
     "data": {
      "text/plain": [
       "[<HIS:hisRef target=\"Navneregister_HISe.xml#orgKT\" type=\"org\">det kgl: Theater</HIS:hisRef>]"
      ]
     },
     "execution_count": 5,
     "metadata": {},
     "output_type": "execute_result"
    }
   ],
   "source": [
    "soup.find_all(attrs={\"type\": \"org\"})"
   ]
  },
  {
   "cell_type": "code",
   "execution_count": 18,
   "metadata": {},
   "outputs": [
    {
     "data": {
      "text/plain": [
       "[<p>Jeg kan aldrig <anchor type=\"lemma\" xml:id=\"koB12_797\"/>komme af med Brevskrivning, navnlig fordi jeg har en Mistanke om at man paa mit Forfatterskab i denne Retning med adskillig Grund kan anvende <anchor type=\"lemma\" xml:id=\"koB12_798\"/>den Charakteristik, hvormed De, som det forekommer mig temmelig haardt, betegner min Prosa ialmindelighed; <HIS:hisRef corresp=\"noteT12_196\" target=\"B1844-1871ht_noter.xml\" type=\"tcNote\" xml:id=\"noteT12_196\">alligevel</HIS:hisRef> maa jeg dog tilskrive Dem etpar Linjer for oprigtigt og hjerteligt at takke for <anchor type=\"lemma\" xml:id=\"koB12_799\"/>Deres Anmeldelse af min Bog. Jeg takker Dem baade for hvad jeg kan være enig med Dem i (hvilket ikke blot og bart er de for mig smigrende Partier af Kritiken) og for hvad jeg, naar jeg engang bliver saa heldig personlig at træffe Dem, ialfald vil <emph>forsøge</emph> at disputere om. Navnlig takker jeg Dem fordi jeg seer at De dog igrunden ikke har saameget imod mig, som jeg hidindtil instinktmæssig har indbildt mig; dette har for mig en Vægt, som maaske ikke vil være let at gjøre Dem indlysende, der ikke kjender til i hvilken forfærdelig Grad jeg gaar sjæleligt allene heroppe. Mine «Venners» <pb n=\"[2]\"/>Opfatning af mig gjør mig forresten ingen Skade; jeg seer, angaaende mig selv, i ethvert Punkt klarere end alle mine Venner – og dette sandelig ikke til min Fordel. – <anchor type=\"lemma\" xml:id=\"koB12_800\"/>Jeg skriver nu paa <HIS:hisRef target=\"Navneregister_HISe.xml#woKE\" type=\"work\">et historisk Skuespil i 5 Akter</HIS:hisRef>, – men i Prosa, jeg <emph>kan</emph> ikke skrive det i Vers. – De gjør mig lidt Uret naar De antyder at jeg har forsøgt paa at ville ligne <HIS:hisRef target=\"Navneregister_HISe.xml#peBB\" type=\"person\">Bjørnson</HIS:hisRef>; <HIS:hisRef target=\"Navneregister_HISe.xml#woF1\" type=\"work\">\n",
       " <anchor type=\"lemma\" xml:id=\"koB12_801\"/>«Fru Inger til Østeraad»</HIS:hisRef> og <HIS:hisRef target=\"Navneregister_HISe.xml#woHH\" type=\"work\">\n",
       " <anchor type=\"lemma\" xml:id=\"koB12_802\"/>«Hærmændene paa Helgeland»</HIS:hisRef> er skrevne <anchor type=\"lemma\" xml:id=\"koB12_803\"/>forinden B: endnu havde digtet en Linje. (NB: det er muligt at «Mellem Slagene» var til paa den Tid jeg skrev «Hærmændene» men kom ikke og kunde ikke komme mig for Øje). – Hvad <HIS:hisRef target=\"Navneregister_HISe.xml#woKK\" type=\"work\">\n",
       " <anchor type=\"lemma\" xml:id=\"koB12_804\"/>«Kjærlighedens Komedie»</HIS:hisRef> angaar, saa kan jeg forsikkre Dem, at har det nogensinde været en Nødvendighed for en Forfatter at skille sig af med en Stemning og et Stof, saa var det Tilfældet <anchor type=\"lemma\" xml:id=\"koB12_805\"/>da jeg gik ivej med dette Arbejde. – <anchor type=\"lemma\" xml:id=\"koB12_806\"/>Deres venlige Raad at indsende «Fru Inger» til <HIS:hisRef target=\"Navneregister_HISe.xml#orgKT\" type=\"org\">det kgl: Theater</HIS:hisRef> skal jeg følge; gid jeg blot maatte gribe Tingen paa den rette Maade og at den maatte lykkes. Disse Linjer til Tak har det været mig en Trang at sende Dem idet jeg varmt og levende føler at De har gjort en god Gjerning mod mig ved ikke at lægge min Bog tilside i Taushed.</p>]"
      ]
     },
     "execution_count": 18,
     "metadata": {},
     "output_type": "execute_result"
    }
   ],
   "source": [
    "soup.find_all([\"p\"])"
   ]
  },
  {
   "cell_type": "markdown",
   "metadata": {},
   "source": [
    "Gathering all the letters and parsing the p tags to the text files."
   ]
  },
  {
   "cell_type": "code",
   "execution_count": null,
   "metadata": {},
   "outputs": [],
   "source": [
    "file_list = glob.glob(os.path.join(os.getcwd(), r\"C:\\\\Users\\\\Sarah\\\\Desktop\\Bachelor\\\\Ibsen\\\\data_ibsen_work\\\\xml\", \"BREV*.xml\"))\n",
    "path = (r\"C:\\\\Users\\\\Sarah\\\\Desktop\\\\Bachelor\\\\Ibsen\\\\data_ibsen_work\\\\txt\\\\brev_p\\\\\") \n",
    "\n",
    "for file in file_list:\n",
    "    with open(file) as f_input:\n",
    "        corpus = ''\n",
    "        soup = BeautifulSoup(f_input, 'xml')\n",
    "        all_p = soup.find_all([\"p\"])\n",
    "        for tag in all_p:\n",
    "            corpus += tag.get_text().strip().replace(\"\\n\", \"\") \n",
    "        file = (''.join([n for n in os.path.basename(file_path)]))\n",
    "        file = re.sub('\\.xml', '', file) \n",
    "        text_file = open(path + F\"{file}.txt\", \"w\")\n",
    "        n = text_file.write(corpus)\n",
    "        text_file.close()"
   ]
  },
  {
   "cell_type": "markdown",
   "metadata": {},
   "source": [
    "Gathering all the letters and creating the annotation CSV files while keeping the Ibsen tags of the relevant categories"
   ]
  },
  {
   "cell_type": "code",
   "execution_count": 150,
   "metadata": {},
   "outputs": [],
   "source": [
    "file_list = glob.glob(os.path.join(os.getcwd(), r\"C:\\\\Users\\\\Sarah\\\\Desktop\\Bachelor\\\\Ibsen\\\\data_ibsen_work\\\\xml\", \"BREV*.xml\"))\n",
    "path = (r\"C:\\\\Users\\\\Sarah\\\\Desktop\\\\Bachelor\\\\Ibsen\\\\data_ibsen_work\\\\txt\\\\brev_p\\\\\")\n",
    "\n",
    "strings = []\n",
    "files = []\n",
    "corpus_all = []\n",
    "person = []\n",
    "place = []\n",
    "org = []\n",
    "work = []\n",
    "\n",
    "for file in file_list:\n",
    "    with open(file, encoding = 'utf-8') as f_input:\n",
    "        corpus = ''\n",
    "        \n",
    "        soup = BeautifulSoup(f_input, 'xml')\n",
    "        all_p = soup.find_all([\"p\"])\n",
    "        for tag in all_p:\n",
    "            corpus += tag.get_text().strip().replace(\"\\n\", \"\")\n",
    "        corpus_all.append(corpus)\n",
    "        \n",
    "        person_in = []\n",
    "        person_tags = soup.find_all(attrs={\"type\": \"person\"})\n",
    "        for element in person_tags:\n",
    "            person_text = element.get_text().strip().replace(\"\\n\", \"\")\n",
    "            person_in.append(person_text)\n",
    "        person.append(person_in)\n",
    "        \n",
    "        place_in = []\n",
    "        place_tags = soup.find_all(attrs={\"type\": \"place\"})\n",
    "        for element in place_tags:\n",
    "            place_text = element.get_text().strip().replace(\"\\n\", \"\")\n",
    "            place_in.append(place_text)\n",
    "        place.append(place_in)\n",
    "\n",
    "        \n",
    "        org_in = []\n",
    "        org_tags = soup.find_all(attrs={\"type\": \"org\"})\n",
    "        for element in org_tags:\n",
    "            org_text = element.get_text().strip().replace(\"\\n\", \"\")\n",
    "            org_in.append(org_text)\n",
    "        org.append(org_in)\n",
    "        \n",
    "        work_in = []\n",
    "        work_tags = soup.find_all(attrs={\"type\": \"work\"})\n",
    "        for element in work_tags:\n",
    "            work_text = element.get_text().strip().replace(\"\\n\", \"\")\n",
    "            work_in.append(work_text)\n",
    "        work.append(work_in)\n",
    "        \n",
    "        \n",
    "        file_name = (''.join([n for n in os.path.basename(file)]))\n",
    "        file_name = re.sub('\\.xml', '', file_name) \n",
    "        files.append(file_name)"
   ]
  },
  {
   "cell_type": "code",
   "execution_count": 151,
   "metadata": {},
   "outputs": [],
   "source": [
    "lists = {'files': files, 'text': corpus_all, 'person': person, 'place': place, 'org': org, 'work': work}\n",
    "\n",
    "df = pd.DataFrame.from_dict(lists, orient = 'index')\n",
    "df = df.transpose()"
   ]
  },
  {
   "cell_type": "code",
   "execution_count": 6,
   "metadata": {},
   "outputs": [
    {
     "ename": "NameError",
     "evalue": "name 'df' is not defined",
     "output_type": "error",
     "traceback": [
      "\u001b[1;31m---------------------------------------------------------------------------\u001b[0m",
      "\u001b[1;31mNameError\u001b[0m                                 Traceback (most recent call last)",
      "\u001b[1;32m<ipython-input-6-7f13a77936cc>\u001b[0m in \u001b[0;36m<module>\u001b[1;34m\u001b[0m\n\u001b[0;32m      1\u001b[0m \u001b[0mpath\u001b[0m \u001b[1;33m=\u001b[0m \u001b[1;33m(\u001b[0m\u001b[1;34mr\"C:\\\\Users\\\\Sarah\\\\Desktop\\\\Bachelor\\\\Ibsen\\\\data_ibsen_work\\\\csv\\\\\"\u001b[0m\u001b[1;33m)\u001b[0m\u001b[1;33m\u001b[0m\u001b[1;33m\u001b[0m\u001b[0m\n\u001b[1;32m----> 2\u001b[1;33m \u001b[0mdf\u001b[0m\u001b[1;33m.\u001b[0m\u001b[0mto_csv\u001b[0m\u001b[1;33m(\u001b[0m\u001b[0mos\u001b[0m\u001b[1;33m.\u001b[0m\u001b[0mpath\u001b[0m\u001b[1;33m.\u001b[0m\u001b[0mjoin\u001b[0m\u001b[1;33m(\u001b[0m\u001b[0mpath\u001b[0m\u001b[1;33m,\u001b[0m\u001b[1;34mr'brev_for_annotations.csv'\u001b[0m\u001b[1;33m)\u001b[0m\u001b[1;33m,\u001b[0m \u001b[0mencoding\u001b[0m \u001b[1;33m=\u001b[0m \u001b[1;34m'utf-8'\u001b[0m\u001b[1;33m,\u001b[0m \u001b[0mindex\u001b[0m \u001b[1;33m=\u001b[0m \u001b[1;32mFalse\u001b[0m\u001b[1;33m)\u001b[0m\u001b[1;33m\u001b[0m\u001b[1;33m\u001b[0m\u001b[0m\n\u001b[0m",
      "\u001b[1;31mNameError\u001b[0m: name 'df' is not defined"
     ]
    }
   ],
   "source": [
    "path = (r\"C:\\\\Users\\\\Sarah\\\\Desktop\\\\Bachelor\\\\Ibsen\\\\data_ibsen_work\\\\csv\\\\\")\n",
    "df.to_csv(os.path.join(path,r'brev_for_annotations.csv'), encoding = 'utf-8', index = False)"
   ]
  },
  {
   "cell_type": "code",
   "execution_count": 155,
   "metadata": {},
   "outputs": [
    {
     "data": {
      "text/html": [
       "<div>\n",
       "<style scoped>\n",
       "    .dataframe tbody tr th:only-of-type {\n",
       "        vertical-align: middle;\n",
       "    }\n",
       "\n",
       "    .dataframe tbody tr th {\n",
       "        vertical-align: top;\n",
       "    }\n",
       "\n",
       "    .dataframe thead th {\n",
       "        text-align: right;\n",
       "    }\n",
       "</style>\n",
       "<table border=\"1\" class=\"dataframe\">\n",
       "  <thead>\n",
       "    <tr style=\"text-align: right;\">\n",
       "      <th></th>\n",
       "      <th>files</th>\n",
       "      <th>text</th>\n",
       "      <th>person</th>\n",
       "      <th>place</th>\n",
       "      <th>org</th>\n",
       "      <th>work</th>\n",
       "    </tr>\n",
       "  </thead>\n",
       "  <tbody>\n",
       "    <tr>\n",
       "      <th>0</th>\n",
       "      <td>BREV_B1844-1871ht_18670308FH</td>\n",
       "      <td></td>\n",
       "      <td>[]</td>\n",
       "      <td>[]</td>\n",
       "      <td>[]</td>\n",
       "      <td>[]</td>\n",
       "    </tr>\n",
       "    <tr>\n",
       "      <th>1</th>\n",
       "      <td>BREV_B1844-1871ht_B18260306NTB</td>\n",
       "      <td></td>\n",
       "      <td>[]</td>\n",
       "      <td>[]</td>\n",
       "      <td>[]</td>\n",
       "      <td>[]</td>\n",
       "    </tr>\n",
       "    <tr>\n",
       "      <th>2</th>\n",
       "      <td>BREV_B1844-1871ht_B18440520PL</td>\n",
       "      <td>Du maa virkelig undskylde, at jeg først nu besvarer Dit Brev, men her har været saameget at bestille i denne Tid, at det har været mig umuligt før, og af Mangel paa Tid kan jeg heller ikke idag skrive noget langt Brev. – Hedevall er vel allerede reist, og han vil vist blive fornøiet, idetmindste er jeg meget vel tilfreds og har aldrig angret at jeg er kommen hid, da Reimann er meget god imod mig, og gjør alt muligt, for at opvække Lyst hos mig til Apotheket, da denne i Begyndelsen ikke var synderlig stor. Hans Kone derimod gjør jeg langtfra ikke saameget af, og vi ere ofte Uvenner, da det er umuligt at gjøre hende Noget tilpas. Reimann er ogsaa Postmester, og Du kan derfor gjerne lade min Broder, Johan, lægge Dine Breve ind i dem han skriver, da Du paa den Maade undgaaer at betale Noget for dem. Du kan tro at Grimstad, og især Omegnen er ganske vakker; og Damerne, endskjøndt ikke saa galante, som Skiens, ere ogsaa ganske antagelige, og Du kan være overbeviist om, at jeg gjør alt for at erhverve mig deres Naade, som ogsaa er temmelig let at erholde. Da Dampskibet passerer Grimstad to Gange ugentlig, haaber jeg, at gjøre en Tour med det til Skien, dersom ellers ingen Hindringer kommer iveien, som jeg dog ikke skulle formode. Jeg har adskillige Spørgsmaale at gjøre Dig, som du maa besvare med næste Post: Først og fremst maa Du sige mig hvorledes J: J: optog Efterretningen om hendes Kjærestes Død, og lad mig tillige vide, hvem den Lykkelige er, som har indtaget hans Plads; thi jeg kjender hende for godt til at antage at hun endnu sørger for ham. Dernest maa Du sige mig om Carl Aamodt endnu øver sig i Poesien og hvis dette er Tilfældet maa Du endelig bede ham ikke at forglemme, at sende mig et lille Digt, for at jeg kan see om han har gjordt nogen Fremgang. – Uagtet jeg nok kunde have mere at skrive om, maa jeg dog afbryde af Mangel paa Tid, men Du kan være overbeviist om, næste Gang at faa et længere Brev. – Vær saa god at sende Bogen «Wilhelm Tell» som Hedevall har laant, optill os, da den ikke tilhører mig selv. – Lev vel og hils alle gode Venner fra Din hengivneLad endelig ikke Nogen see dette da det er skrevet i største Hast.</td>\n",
       "      <td>[Hedevall, Reimann, Hans Kone, Johan, J: J:, Carl Aamodt]</td>\n",
       "      <td>[Grimstad, Skiens]</td>\n",
       "      <td>[]</td>\n",
       "      <td>[]</td>\n",
       "    </tr>\n",
       "    <tr>\n",
       "      <th>3</th>\n",
       "      <td>BREV_B1844-1871ht_B18441006HSte</td>\n",
       "      <td>Tilgiv at jeg ikke før har besvaret Dit Brev, men det har været mig reent umuligt. I hele Sommer har jeg glædet mig til, at jeg skulde komme hjem til Din Confirmation; men det kan ikke blive noget af, da her fortiden er meget at bestille, og Reimann har just ikke synderlig Lyst til at gjøre noget selv; jeg kan saaledes ikke mundtlig aflægge Dig min Lykønskning til denne Dag; hvortil vistnok ogsaa Du ligesaavel som de fleste andre Smaapiger længes efter, for det er jo saa moersomt at være voxen – idetmindste synes man saaledes her. Iforgaars afbrød en vigtig Begivenhed det ellers saa eensformige Liv her – idet nemmelig en af Byens respectable Handværkere havde Bryllup. Det var ret en Festdag for Mdm Reimann endskjøndt hun rigtignok ikke var med, – et Bryllup er altid en interessant Ting for Damerne, ved Du nok – og naturligviis ogsaa for Mdm R... hun vidste vidt og bredt at fortælle alt hvad man havde talt, gjort og spiist, og det er en sand Fornøielse at høre hende fortælle Noget, da man derved faaer at vide langt mere, end om man selv havde seet det. Forøvrigt veed jeg intet at fortælle Dig, undtagen den høist sørgelige Begivenhed, at Løverdagen den 5te Dennes afgik ved Døden – Reimanns Yndlingskat efter faae Timer iforveien at have født til Verden 2 trivelige Unger, der, skjønt endnu for smaa til fuldkommen at fatte deres Tab, tilligemed Reimann beklage Tabet af en øm Moder og kjærlig Veninde – Den kjære Afdøde, hvis gode Forstand, tilligemed flere Legemsfortrin, udmærkede den fremfor de fleste af dens Lige, var ogsaa en god Musekat, der fangede Rotter og Muus ligesaa let, som Mdm Reimann uddeler et Ørefigen. For denne Gang maa det være nok da Du veed jeg ikke kan Noget med at skrive lange Breve, og maa desuden skrive hjem iaften.Svar mig endelig saasnart Du faaer Tid dertil</td>\n",
       "      <td>[Reimann, Mdm Reimann]</td>\n",
       "      <td>[]</td>\n",
       "      <td>[]</td>\n",
       "      <td>[]</td>\n",
       "    </tr>\n",
       "    <tr>\n",
       "      <th>4</th>\n",
       "      <td>BREV_B1844-1871ht_B18450801AWE</td>\n",
       "      <td>Jomfru M: Wahl hilses venskabeligst fra</td>\n",
       "      <td>[]</td>\n",
       "      <td>[]</td>\n",
       "      <td>[]</td>\n",
       "      <td>[]</td>\n",
       "    </tr>\n",
       "    <tr>\n",
       "      <th>...</th>\n",
       "      <td>...</td>\n",
       "      <td>...</td>\n",
       "      <td>...</td>\n",
       "      <td>...</td>\n",
       "      <td>...</td>\n",
       "      <td>...</td>\n",
       "    </tr>\n",
       "    <tr>\n",
       "      <th>2444</th>\n",
       "      <td>BREV_B1890-1905ht_BudatNN_Hjerteligste</td>\n",
       "      <td>Hjerteligste ønsker!Tør desværre ikke selv personlig være tilstede.</td>\n",
       "      <td>[]</td>\n",
       "      <td>[]</td>\n",
       "      <td>[]</td>\n",
       "      <td>[]</td>\n",
       "    </tr>\n",
       "    <tr>\n",
       "      <th>2445</th>\n",
       "      <td>BREV_B1890-1905ht_BudatNN_Med_udtrykket</td>\n",
       "      <td>Med udtrykket af min sympati for komitéens smukke formål tegner jeg mig</td>\n",
       "      <td>[]</td>\n",
       "      <td>[]</td>\n",
       "      <td>[]</td>\n",
       "      <td>[]</td>\n",
       "    </tr>\n",
       "    <tr>\n",
       "      <th>2446</th>\n",
       "      <td>BREV_B1890-1905ht_BudatNN_Tallene</td>\n",
       "      <td>Tallene må utvilsomt være skrevne af mig selv men rimeligvis senere end texten.</td>\n",
       "      <td>[]</td>\n",
       "      <td>[]</td>\n",
       "      <td>[]</td>\n",
       "      <td>[]</td>\n",
       "    </tr>\n",
       "    <tr>\n",
       "      <th>2447</th>\n",
       "      <td>BREV_B1890-1905ht_BudatNN_Wenn_Sie</td>\n",
       "      <td>Wenn Sie keine andere Verwendung für Ihre Zeit haben, wird es uns sehr lieb sein, Sie abends bei uns ohne alle Umstände zu sehen. Ab 7½ Uhr sind wir zuhause</td>\n",
       "      <td>[]</td>\n",
       "      <td>[]</td>\n",
       "      <td>[]</td>\n",
       "      <td>[]</td>\n",
       "    </tr>\n",
       "    <tr>\n",
       "      <th>2448</th>\n",
       "      <td>BREV_B1890-1905ht_BudatWA</td>\n",
       "      <td>Hjertelig velkommen når De vil! For resten vil jeg om en halv time opsøge Dem i hotellet.</td>\n",
       "      <td>[]</td>\n",
       "      <td>[]</td>\n",
       "      <td>[]</td>\n",
       "      <td>[]</td>\n",
       "    </tr>\n",
       "  </tbody>\n",
       "</table>\n",
       "<p>2449 rows × 6 columns</p>\n",
       "</div>"
      ],
      "text/plain": [
       "                                        files  \\\n",
       "0                BREV_B1844-1871ht_18670308FH   \n",
       "1              BREV_B1844-1871ht_B18260306NTB   \n",
       "2               BREV_B1844-1871ht_B18440520PL   \n",
       "3             BREV_B1844-1871ht_B18441006HSte   \n",
       "4              BREV_B1844-1871ht_B18450801AWE   \n",
       "...                                       ...   \n",
       "2444   BREV_B1890-1905ht_BudatNN_Hjerteligste   \n",
       "2445  BREV_B1890-1905ht_BudatNN_Med_udtrykket   \n",
       "2446        BREV_B1890-1905ht_BudatNN_Tallene   \n",
       "2447       BREV_B1890-1905ht_BudatNN_Wenn_Sie   \n",
       "2448                BREV_B1890-1905ht_BudatWA   \n",
       "\n",
       "                                                                                                                                                                                                                                                                                                                                                                                                                                                                                                                                                                                                                                                                                                                                                                                                                                                                                                                                                                                                                                                                                                                                                                                                                                                                                                                                                                                                                                                                                                                                                                                                                                                                                                                                                                                                                                                                                                                                                                                                                                                                                                                                                                                                                                                     text  \\\n",
       "0                                                                                                                                                                                                                                                                                                                                                                                                                                                                                                                                                                                                                                                                                                                                                                                                                                                                                                                                                                                                                                                                                                                                                                                                                                                                                                                                                                                                                                                                                                                                                                                                                                                                                                                                                                                                                                                                                                                                                                                                                                                                                                                                                                                                                                                           \n",
       "1                                                                                                                                                                                                                                                                                                                                                                                                                                                                                                                                                                                                                                                                                                                                                                                                                                                                                                                                                                                                                                                                                                                                                                                                                                                                                                                                                                                                                                                                                                                                                                                                                                                                                                                                                                                                                                                                                                                                                                                                                                                                                                                                                                                                                                                           \n",
       "2     Du maa virkelig undskylde, at jeg først nu besvarer Dit Brev, men her har været saameget at bestille i denne Tid, at det har været mig umuligt før, og af Mangel paa Tid kan jeg heller ikke idag skrive noget langt Brev. – Hedevall er vel allerede reist, og han vil vist blive fornøiet, idetmindste er jeg meget vel tilfreds og har aldrig angret at jeg er kommen hid, da Reimann er meget god imod mig, og gjør alt muligt, for at opvække Lyst hos mig til Apotheket, da denne i Begyndelsen ikke var synderlig stor. Hans Kone derimod gjør jeg langtfra ikke saameget af, og vi ere ofte Uvenner, da det er umuligt at gjøre hende Noget tilpas. Reimann er ogsaa Postmester, og Du kan derfor gjerne lade min Broder, Johan, lægge Dine Breve ind i dem han skriver, da Du paa den Maade undgaaer at betale Noget for dem. Du kan tro at Grimstad, og især Omegnen er ganske vakker; og Damerne, endskjøndt ikke saa galante, som Skiens, ere ogsaa ganske antagelige, og Du kan være overbeviist om, at jeg gjør alt for at erhverve mig deres Naade, som ogsaa er temmelig let at erholde. Da Dampskibet passerer Grimstad to Gange ugentlig, haaber jeg, at gjøre en Tour med det til Skien, dersom ellers ingen Hindringer kommer iveien, som jeg dog ikke skulle formode. Jeg har adskillige Spørgsmaale at gjøre Dig, som du maa besvare med næste Post: Først og fremst maa Du sige mig hvorledes J: J: optog Efterretningen om hendes Kjærestes Død, og lad mig tillige vide, hvem den Lykkelige er, som har indtaget hans Plads; thi jeg kjender hende for godt til at antage at hun endnu sørger for ham. Dernest maa Du sige mig om Carl Aamodt endnu øver sig i Poesien og hvis dette er Tilfældet maa Du endelig bede ham ikke at forglemme, at sende mig et lille Digt, for at jeg kan see om han har gjordt nogen Fremgang. – Uagtet jeg nok kunde have mere at skrive om, maa jeg dog afbryde af Mangel paa Tid, men Du kan være overbeviist om, næste Gang at faa et længere Brev. – Vær saa god at sende Bogen «Wilhelm Tell» som Hedevall har laant, optill os, da den ikke tilhører mig selv. – Lev vel og hils alle gode Venner fra Din hengivneLad endelig ikke Nogen see dette da det er skrevet i største Hast.   \n",
       "3                                                                                                                                                                                                                                                                                                                                                                         Tilgiv at jeg ikke før har besvaret Dit Brev, men det har været mig reent umuligt. I hele Sommer har jeg glædet mig til, at jeg skulde komme hjem til Din Confirmation; men det kan ikke blive noget af, da her fortiden er meget at bestille, og Reimann har just ikke synderlig Lyst til at gjøre noget selv; jeg kan saaledes ikke mundtlig aflægge Dig min Lykønskning til denne Dag; hvortil vistnok ogsaa Du ligesaavel som de fleste andre Smaapiger længes efter, for det er jo saa moersomt at være voxen – idetmindste synes man saaledes her. Iforgaars afbrød en vigtig Begivenhed det ellers saa eensformige Liv her – idet nemmelig en af Byens respectable Handværkere havde Bryllup. Det var ret en Festdag for Mdm Reimann endskjøndt hun rigtignok ikke var med, – et Bryllup er altid en interessant Ting for Damerne, ved Du nok – og naturligviis ogsaa for Mdm R... hun vidste vidt og bredt at fortælle alt hvad man havde talt, gjort og spiist, og det er en sand Fornøielse at høre hende fortælle Noget, da man derved faaer at vide langt mere, end om man selv havde seet det. Forøvrigt veed jeg intet at fortælle Dig, undtagen den høist sørgelige Begivenhed, at Løverdagen den 5te Dennes afgik ved Døden – Reimanns Yndlingskat efter faae Timer iforveien at have født til Verden 2 trivelige Unger, der, skjønt endnu for smaa til fuldkommen at fatte deres Tab, tilligemed Reimann beklage Tabet af en øm Moder og kjærlig Veninde – Den kjære Afdøde, hvis gode Forstand, tilligemed flere Legemsfortrin, udmærkede den fremfor de fleste af dens Lige, var ogsaa en god Musekat, der fangede Rotter og Muus ligesaa let, som Mdm Reimann uddeler et Ørefigen. For denne Gang maa det være nok da Du veed jeg ikke kan Noget med at skrive lange Breve, og maa desuden skrive hjem iaften.Svar mig endelig saasnart Du faaer Tid dertil   \n",
       "4                                                                                                                                                                                                                                                                                                                                                                                                                                                                                                                                                                                                                                                                                                                                                                                                                                                                                                                                                                                                                                                                                                                                                                                                                                                                                                                                                                                                                                                                                                                                                                                                                                                                                                                                                                                                                                                                                                                                                                                                                                                                                                                                                                                                                 Jomfru M: Wahl hilses venskabeligst fra   \n",
       "...                                                                                                                                                                                                                                                                                                                                                                                                                                                                                                                                                                                                                                                                                                                                                                                                                                                                                                                                                                                                                                                                                                                                                                                                                                                                                                                                                                                                                                                                                                                                                                                                                                                                                                                                                                                                                                                                                                                                                                                                                                                                                                                                                                                                                                                   ...   \n",
       "2444                                                                                                                                                                                                                                                                                                                                                                                                                                                                                                                                                                                                                                                                                                                                                                                                                                                                                                                                                                                                                                                                                                                                                                                                                                                                                                                                                                                                                                                                                                                                                                                                                                                                                                                                                                                                                                                                                                                                                                                                                                                                                                                                                                                  Hjerteligste ønsker!Tør desværre ikke selv personlig være tilstede.   \n",
       "2445                                                                                                                                                                                                                                                                                                                                                                                                                                                                                                                                                                                                                                                                                                                                                                                                                                                                                                                                                                                                                                                                                                                                                                                                                                                                                                                                                                                                                                                                                                                                                                                                                                                                                                                                                                                                                                                                                                                                                                                                                                                                                                                                                                              Med udtrykket af min sympati for komitéens smukke formål tegner jeg mig   \n",
       "2446                                                                                                                                                                                                                                                                                                                                                                                                                                                                                                                                                                                                                                                                                                                                                                                                                                                                                                                                                                                                                                                                                                                                                                                                                                                                                                                                                                                                                                                                                                                                                                                                                                                                                                                                                                                                                                                                                                                                                                                                                                                                                                                                                                      Tallene må utvilsomt være skrevne af mig selv men rimeligvis senere end texten.   \n",
       "2447                                                                                                                                                                                                                                                                                                                                                                                                                                                                                                                                                                                                                                                                                                                                                                                                                                                                                                                                                                                                                                                                                                                                                                                                                                                                                                                                                                                                                                                                                                                                                                                                                                                                                                                                                                                                                                                                                                                                                                                                                                                                                         Wenn Sie keine andere Verwendung für Ihre Zeit haben, wird es uns sehr lieb sein, Sie abends bei uns ohne alle Umstände zu sehen. Ab 7½ Uhr sind wir zuhause   \n",
       "2448                                                                                                                                                                                                                                                                                                                                                                                                                                                                                                                                                                                                                                                                                                                                                                                                                                                                                                                                                                                                                                                                                                                                                                                                                                                                                                                                                                                                                                                                                                                                                                                                                                                                                                                                                                                                                                                                                                                                                                                                                                                                                                                                                            Hjertelig velkommen når De vil! For resten vil jeg om en halv time opsøge Dem i hotellet.   \n",
       "\n",
       "                                                         person  \\\n",
       "0                                                            []   \n",
       "1                                                            []   \n",
       "2     [Hedevall, Reimann, Hans Kone, Johan, J: J:, Carl Aamodt]   \n",
       "3                                        [Reimann, Mdm Reimann]   \n",
       "4                                                            []   \n",
       "...                                                         ...   \n",
       "2444                                                         []   \n",
       "2445                                                         []   \n",
       "2446                                                         []   \n",
       "2447                                                         []   \n",
       "2448                                                         []   \n",
       "\n",
       "                   place org work  \n",
       "0                     []  []   []  \n",
       "1                     []  []   []  \n",
       "2     [Grimstad, Skiens]  []   []  \n",
       "3                     []  []   []  \n",
       "4                     []  []   []  \n",
       "...                  ...  ..  ...  \n",
       "2444                  []  []   []  \n",
       "2445                  []  []   []  \n",
       "2446                  []  []   []  \n",
       "2447                  []  []   []  \n",
       "2448                  []  []   []  \n",
       "\n",
       "[2449 rows x 6 columns]"
      ]
     },
     "execution_count": 155,
     "metadata": {},
     "output_type": "execute_result"
    }
   ],
   "source": [
    "df"
   ]
  }
 ],
 "metadata": {
  "kernelspec": {
   "display_name": "Python 3",
   "language": "python",
   "name": "python3"
  },
  "language_info": {
   "codemirror_mode": {
    "name": "ipython",
    "version": 3
   },
   "file_extension": ".py",
   "mimetype": "text/x-python",
   "name": "python",
   "nbconvert_exporter": "python",
   "pygments_lexer": "ipython3",
   "version": "3.8.3"
  }
 },
 "nbformat": 4,
 "nbformat_minor": 4
}
