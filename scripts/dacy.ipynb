{
 "cells": [
  {
   "cell_type": "markdown",
   "metadata": {},
   "source": [
    "### This script uses the TXT files to create the NER prediction CSV files for all DaCy models."
   ]
  },
  {
   "cell_type": "code",
   "execution_count": null,
   "metadata": {},
   "outputs": [],
   "source": [
    "import re\n",
    "import os\n",
    "import glob\n",
    "import pandas as pd"
   ]
  },
  {
   "cell_type": "code",
   "execution_count": 2,
   "metadata": {},
   "outputs": [
    {
     "name": "stdout",
     "output_type": "stream",
     "text": [
      "da_dacy_small_tft-0.0.0\n",
      "da_dacy_medium_tft-0.0.0\n",
      "da_dacy_large_tft-0.0.0\n",
      "da_dacy_small_trf-0.1.0\n",
      "da_dacy_medium_trf-0.1.0\n",
      "da_dacy_large_trf-0.1.0\n"
     ]
    },
    {
     "name": "stderr",
     "output_type": "stream",
     "text": [
      "C:\\Users\\Sarah\\anaconda3\\lib\\site-packages\\spacy\\util.py:732: UserWarning: [W095] Model 'en_core_web_sm' (3.0.0) was trained with spaCy v3.0 and may not be 100% compatible with the current version (3.1.2). If you see errors or degraded performance, download a newer compatible model or retrain your custom model with the current spaCy version. For more details and available updates, run: python -m spacy validate\n",
      "  warnings.warn(warn_msg)\n"
     ]
    }
   ],
   "source": [
    "import dacy\n",
    "for model in dacy.models():\n",
    "    print(model)\n",
    "    \n",
    "nlp = dacy.load(\"da_dacy_large_trf-0.1.0\")"
   ]
  },
  {
   "cell_type": "markdown",
   "metadata": {},
   "source": [
    "Testing the functionalities of DaCy"
   ]
  },
  {
   "cell_type": "code",
   "execution_count": 6,
   "metadata": {},
   "outputs": [
    {
     "name": "stderr",
     "output_type": "stream",
     "text": [
      "C:\\Users\\Sarah\\anaconda3\\lib\\site-packages\\spacy\\pipeline\\attributeruler.py:108: UserWarning: [W036] The component 'matcher' does not have any patterns defined.\n",
      "  matches = self.matcher(doc, allow_missing=True)\n"
     ]
    }
   ],
   "source": [
    "doc = nlp(\"Opfordret af Deres Velbaarenhed til at erklære om jeg vedgaaer eller nægter at være Fader til et af Pigen Else Sophie Jensdatter Birkedalen født Drengebarn, som i Daaben den 25de October sidstleden er kaldet Hans Jacob, maa jeg herved ærbødigst meddele, at jeg ikke, uagtet Pigens Samqvem ogsaa med andre Mandspersoner paa den vedkommende Tid, bestemt tør fralægge mig bemeldte Paternitet, da jeg desværre med hende har pleiet legemlig Omgang, hvortil hendes fristende Adfærd og samtidige Tjeneste med mig hos Apotheker Reimann i lige Grad gav Anledning.Jeg er nu i 20de Aar gl:, eier aldeles Intet, uden nogle tarvelige Klæder, Skoetøi og Linned og skal om kort Tid forlade Grimstad Apothek, ved hvilket jeg som Lærling og altsaa uden nogen anden Løn, end Kosthold og de ovennævnte Fornødenheder, har opholdt mig siden Sommeren 1843. Min endnu levende Fader, til hvem jeg nødsages for det Første at begive mig, er en af de mindre Handelsmænd i Skien og befinder sig i høist maadelige Kaar.Til Vitterlighed:\")"
   ]
  },
  {
   "cell_type": "code",
   "execution_count": 7,
   "metadata": {},
   "outputs": [
    {
     "name": "stdout",
     "output_type": "stream",
     "text": [
      "Else Sophie Jensdatter Birkedalen : PER\n",
      "Hans Jacob : PER\n",
      "Apotheker : ORG\n",
      "Reimann : PER\n",
      "Grimstad Apothek : LOC\n",
      "Skien : LOC\n"
     ]
    }
   ],
   "source": [
    "for entity in doc.ents:\n",
    "   print(entity, \":\", entity.label_)"
   ]
  },
  {
   "cell_type": "code",
   "execution_count": 8,
   "metadata": {},
   "outputs": [
    {
     "name": "stdout",
     "output_type": "stream",
     "text": [
      "[('PER', 'Else Sophie Jensdatter Birkedalen'), ('PER', 'Hans Jacob'), ('ORG', 'Apotheker'), ('PER', 'Reimann'), ('LOC', 'Grimstad Apothek'), ('LOC', 'Skien')]\n"
     ]
    }
   ],
   "source": [
    "ents = [(e.label_, e.text) for e in doc.ents]\n",
    "print(ents)"
   ]
  },
  {
   "cell_type": "code",
   "execution_count": 3,
   "metadata": {},
   "outputs": [],
   "source": [
    "file_list = glob.glob(os.path.join(os.getcwd(), \"C:\\\\Users\\\\Sarah\\\\Desktop\\\\Bachelor\\\\Ibsen\\\\data_ibsen_work\\\\txt\\\\brev_p\", \"BREV*.txt\"))\n",
    "\n",
    "text = []\n",
    "files = []\n",
    "\n",
    "for file_path in file_list:\n",
    "    with open(file_path, encoding = 'utf8') as f_input:\n",
    "        t = f_input.read()\n",
    "        text.append(t)\n",
    "        file = (''.join([n for n in os.path.basename(file_path)]))\n",
    "        file = re.sub('\\.txt', '', file) \n",
    "        files.append(file)"
   ]
  },
  {
   "cell_type": "code",
   "execution_count": 4,
   "metadata": {},
   "outputs": [
    {
     "name": "stderr",
     "output_type": "stream",
     "text": [
      "Token indices sequence length is longer than the specified maximum sequence length for this model (186 > 128). Running this sequence through the model will result in indexing errors\n"
     ]
    }
   ],
   "source": [
    "ents = []\n",
    "\n",
    "for doc in nlp.pipe(text, disable=[\"tagger\", \"parser\", \"attribute_ruler\", \"lemmatizer\"]):\n",
    "    ents.append(([(e.label_, e.text) for e in doc.ents]))"
   ]
  },
  {
   "cell_type": "code",
   "execution_count": 5,
   "metadata": {},
   "outputs": [],
   "source": [
    "lists = {'files': files, 'text': text, 'dacy_small': ents}\n",
    "\n",
    "df = pd.DataFrame.from_dict(lists, orient = 'index')\n",
    "df = df.transpose()"
   ]
  },
  {
   "cell_type": "code",
   "execution_count": 6,
   "metadata": {},
   "outputs": [
    {
     "data": {
      "text/html": [
       "<div>\n",
       "<style scoped>\n",
       "    .dataframe tbody tr th:only-of-type {\n",
       "        vertical-align: middle;\n",
       "    }\n",
       "\n",
       "    .dataframe tbody tr th {\n",
       "        vertical-align: top;\n",
       "    }\n",
       "\n",
       "    .dataframe thead th {\n",
       "        text-align: right;\n",
       "    }\n",
       "</style>\n",
       "<table border=\"1\" class=\"dataframe\">\n",
       "  <thead>\n",
       "    <tr style=\"text-align: right;\">\n",
       "      <th></th>\n",
       "      <th>files</th>\n",
       "      <th>text</th>\n",
       "      <th>dacy_small</th>\n",
       "    </tr>\n",
       "  </thead>\n",
       "  <tbody>\n",
       "    <tr>\n",
       "      <th>0</th>\n",
       "      <td>BREV_B1844-1871ht_18670308FH</td>\n",
       "      <td></td>\n",
       "      <td>[]</td>\n",
       "    </tr>\n",
       "    <tr>\n",
       "      <th>1</th>\n",
       "      <td>BREV_B1844-1871ht_B18260306NTB</td>\n",
       "      <td></td>\n",
       "      <td>[]</td>\n",
       "    </tr>\n",
       "    <tr>\n",
       "      <th>2</th>\n",
       "      <td>BREV_B1844-1871ht_B18440520PL</td>\n",
       "      <td>Du maa virkelig undskylde, at jeg først nu bes...</td>\n",
       "      <td>[(ORG, Dit Brev), (PER, Mangel), (ORG, Brev), ...</td>\n",
       "    </tr>\n",
       "    <tr>\n",
       "      <th>3</th>\n",
       "      <td>BREV_B1844-1871ht_B18441006HSte</td>\n",
       "      <td>Tilgiv at jeg ikke før har besvaret Dit Brev, ...</td>\n",
       "      <td>[(PER, Sommer), (PER, Reimann), (MISC, Smaapig...</td>\n",
       "    </tr>\n",
       "    <tr>\n",
       "      <th>4</th>\n",
       "      <td>BREV_B1844-1871ht_B18450801AWE</td>\n",
       "      <td>\\nJomfru M: Wahl hilses venskabeligst fra</td>\n",
       "      <td>[(PER, M), (PER, Wahl)]</td>\n",
       "    </tr>\n",
       "    <tr>\n",
       "      <th>...</th>\n",
       "      <td>...</td>\n",
       "      <td>...</td>\n",
       "      <td>...</td>\n",
       "    </tr>\n",
       "    <tr>\n",
       "      <th>2444</th>\n",
       "      <td>BREV_B1890-1905ht_BudatNN_Hjerteligste</td>\n",
       "      <td>\\nHjerteligste ønsker!Tør desværre ikke selv p...</td>\n",
       "      <td>[]</td>\n",
       "    </tr>\n",
       "    <tr>\n",
       "      <th>2445</th>\n",
       "      <td>BREV_B1890-1905ht_BudatNN_Med_udtrykket</td>\n",
       "      <td>\\n\\nMed udtrykket af min sympati for komitéens...</td>\n",
       "      <td>[]</td>\n",
       "    </tr>\n",
       "    <tr>\n",
       "      <th>2446</th>\n",
       "      <td>BREV_B1890-1905ht_BudatNN_Tallene</td>\n",
       "      <td>\\nTallene må utvilsomt være skrevne af mig sel...</td>\n",
       "      <td>[]</td>\n",
       "    </tr>\n",
       "    <tr>\n",
       "      <th>2447</th>\n",
       "      <td>BREV_B1890-1905ht_BudatNN_Wenn_Sie</td>\n",
       "      <td>\\n\\n\\n Wenn Sie keine andere Verwendung für Ih...</td>\n",
       "      <td>[(LOC, Wenn Sie keine), (PER, andere Verwendun...</td>\n",
       "    </tr>\n",
       "    <tr>\n",
       "      <th>2448</th>\n",
       "      <td>BREV_B1890-1905ht_BudatWA</td>\n",
       "      <td>\\nHjertelig velkommen når De vil! For resten v...</td>\n",
       "      <td>[]</td>\n",
       "    </tr>\n",
       "  </tbody>\n",
       "</table>\n",
       "<p>2449 rows × 3 columns</p>\n",
       "</div>"
      ],
      "text/plain": [
       "                                        files  \\\n",
       "0                BREV_B1844-1871ht_18670308FH   \n",
       "1              BREV_B1844-1871ht_B18260306NTB   \n",
       "2               BREV_B1844-1871ht_B18440520PL   \n",
       "3             BREV_B1844-1871ht_B18441006HSte   \n",
       "4              BREV_B1844-1871ht_B18450801AWE   \n",
       "...                                       ...   \n",
       "2444   BREV_B1890-1905ht_BudatNN_Hjerteligste   \n",
       "2445  BREV_B1890-1905ht_BudatNN_Med_udtrykket   \n",
       "2446        BREV_B1890-1905ht_BudatNN_Tallene   \n",
       "2447       BREV_B1890-1905ht_BudatNN_Wenn_Sie   \n",
       "2448                BREV_B1890-1905ht_BudatWA   \n",
       "\n",
       "                                                   text  \\\n",
       "0                                                         \n",
       "1                                                         \n",
       "2     Du maa virkelig undskylde, at jeg først nu bes...   \n",
       "3     Tilgiv at jeg ikke før har besvaret Dit Brev, ...   \n",
       "4             \\nJomfru M: Wahl hilses venskabeligst fra   \n",
       "...                                                 ...   \n",
       "2444  \\nHjerteligste ønsker!Tør desværre ikke selv p...   \n",
       "2445  \\n\\nMed udtrykket af min sympati for komitéens...   \n",
       "2446  \\nTallene må utvilsomt være skrevne af mig sel...   \n",
       "2447  \\n\\n\\n Wenn Sie keine andere Verwendung für Ih...   \n",
       "2448  \\nHjertelig velkommen når De vil! For resten v...   \n",
       "\n",
       "                                             dacy_small  \n",
       "0                                                    []  \n",
       "1                                                    []  \n",
       "2     [(ORG, Dit Brev), (PER, Mangel), (ORG, Brev), ...  \n",
       "3     [(PER, Sommer), (PER, Reimann), (MISC, Smaapig...  \n",
       "4                               [(PER, M), (PER, Wahl)]  \n",
       "...                                                 ...  \n",
       "2444                                                 []  \n",
       "2445                                                 []  \n",
       "2446                                                 []  \n",
       "2447  [(LOC, Wenn Sie keine), (PER, andere Verwendun...  \n",
       "2448                                                 []  \n",
       "\n",
       "[2449 rows x 3 columns]"
      ]
     },
     "execution_count": 6,
     "metadata": {},
     "output_type": "execute_result"
    }
   ],
   "source": [
    "df"
   ]
  },
  {
   "cell_type": "code",
   "execution_count": 7,
   "metadata": {},
   "outputs": [],
   "source": [
    "path = (r\"C:\\\\Users\\\\Sarah\\\\Desktop\\\\Bachelor\\\\Ibsen\\\\data_ibsen_work\\\\csv\\\\\")\n",
    "df.to_csv(os.path.join(r'brev_dacy_small.csv'), encoding = 'utf-8', index = False)"
   ]
  }
 ],
 "metadata": {
  "kernelspec": {
   "display_name": "Python 3",
   "language": "python",
   "name": "python3"
  },
  "language_info": {
   "codemirror_mode": {
    "name": "ipython",
    "version": 3
   },
   "file_extension": ".py",
   "mimetype": "text/x-python",
   "name": "python",
   "nbconvert_exporter": "python",
   "pygments_lexer": "ipython3",
   "version": "3.8.3"
  }
 },
 "nbformat": 4,
 "nbformat_minor": 4
}
