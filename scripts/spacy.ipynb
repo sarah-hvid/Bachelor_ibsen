{
 "cells": [
  {
   "cell_type": "markdown",
   "metadata": {},
   "source": [
    "### This script uses the TXT files to create the NER prediction CSV files for all SpaCy models."
   ]
  },
  {
   "cell_type": "code",
   "execution_count": null,
   "metadata": {},
   "outputs": [],
   "source": [
    "import re\n",
    "import os\n",
    "import glob\n",
    "import pandas as pd"
   ]
  },
  {
   "cell_type": "code",
   "execution_count": 9,
   "metadata": {},
   "outputs": [
    {
     "ename": "OSError",
     "evalue": "[E050] Can't find model 'da_core_news_md'. It doesn't seem to be a Python package or a valid path to a data directory.",
     "output_type": "error",
     "traceback": [
      "\u001b[1;31m---------------------------------------------------------------------------\u001b[0m",
      "\u001b[1;31mOSError\u001b[0m                                   Traceback (most recent call last)",
      "\u001b[1;32m<ipython-input-9-90602729d7fa>\u001b[0m in \u001b[0;36m<module>\u001b[1;34m\u001b[0m\n\u001b[0;32m      1\u001b[0m \u001b[1;32mimport\u001b[0m \u001b[0mspacy\u001b[0m\u001b[1;33m\u001b[0m\u001b[1;33m\u001b[0m\u001b[0m\n\u001b[0;32m      2\u001b[0m \u001b[1;33m\u001b[0m\u001b[0m\n\u001b[1;32m----> 3\u001b[1;33m \u001b[0mnlp\u001b[0m \u001b[1;33m=\u001b[0m \u001b[0mspacy\u001b[0m\u001b[1;33m.\u001b[0m\u001b[0mload\u001b[0m\u001b[1;33m(\u001b[0m\u001b[1;34m\"da_core_news_md\"\u001b[0m\u001b[1;33m)\u001b[0m\u001b[1;33m\u001b[0m\u001b[1;33m\u001b[0m\u001b[0m\n\u001b[0m",
      "\u001b[1;32m~\\anaconda3\\lib\\site-packages\\spacy\\__init__.py\u001b[0m in \u001b[0;36mload\u001b[1;34m(name, vocab, disable, exclude, config)\u001b[0m\n\u001b[0;32m     49\u001b[0m     \u001b[0mRETURNS\u001b[0m \u001b[1;33m(\u001b[0m\u001b[0mLanguage\u001b[0m\u001b[1;33m)\u001b[0m\u001b[1;33m:\u001b[0m \u001b[0mThe\u001b[0m \u001b[0mloaded\u001b[0m \u001b[0mnlp\u001b[0m \u001b[0mobject\u001b[0m\u001b[1;33m.\u001b[0m\u001b[1;33m\u001b[0m\u001b[1;33m\u001b[0m\u001b[0m\n\u001b[0;32m     50\u001b[0m     \"\"\"\n\u001b[1;32m---> 51\u001b[1;33m     return util.load_model(\n\u001b[0m\u001b[0;32m     52\u001b[0m         \u001b[0mname\u001b[0m\u001b[1;33m,\u001b[0m \u001b[0mvocab\u001b[0m\u001b[1;33m=\u001b[0m\u001b[0mvocab\u001b[0m\u001b[1;33m,\u001b[0m \u001b[0mdisable\u001b[0m\u001b[1;33m=\u001b[0m\u001b[0mdisable\u001b[0m\u001b[1;33m,\u001b[0m \u001b[0mexclude\u001b[0m\u001b[1;33m=\u001b[0m\u001b[0mexclude\u001b[0m\u001b[1;33m,\u001b[0m \u001b[0mconfig\u001b[0m\u001b[1;33m=\u001b[0m\u001b[0mconfig\u001b[0m\u001b[1;33m\u001b[0m\u001b[1;33m\u001b[0m\u001b[0m\n\u001b[0;32m     53\u001b[0m     )\n",
      "\u001b[1;32m~\\anaconda3\\lib\\site-packages\\spacy\\util.py\u001b[0m in \u001b[0;36mload_model\u001b[1;34m(name, vocab, disable, exclude, config)\u001b[0m\n\u001b[0;32m    326\u001b[0m     \u001b[1;32mif\u001b[0m \u001b[0mname\u001b[0m \u001b[1;32min\u001b[0m \u001b[0mOLD_MODEL_SHORTCUTS\u001b[0m\u001b[1;33m:\u001b[0m\u001b[1;33m\u001b[0m\u001b[1;33m\u001b[0m\u001b[0m\n\u001b[0;32m    327\u001b[0m         \u001b[1;32mraise\u001b[0m \u001b[0mIOError\u001b[0m\u001b[1;33m(\u001b[0m\u001b[0mErrors\u001b[0m\u001b[1;33m.\u001b[0m\u001b[0mE941\u001b[0m\u001b[1;33m.\u001b[0m\u001b[0mformat\u001b[0m\u001b[1;33m(\u001b[0m\u001b[0mname\u001b[0m\u001b[1;33m=\u001b[0m\u001b[0mname\u001b[0m\u001b[1;33m,\u001b[0m \u001b[0mfull\u001b[0m\u001b[1;33m=\u001b[0m\u001b[0mOLD_MODEL_SHORTCUTS\u001b[0m\u001b[1;33m[\u001b[0m\u001b[0mname\u001b[0m\u001b[1;33m]\u001b[0m\u001b[1;33m)\u001b[0m\u001b[1;33m)\u001b[0m\u001b[1;33m\u001b[0m\u001b[1;33m\u001b[0m\u001b[0m\n\u001b[1;32m--> 328\u001b[1;33m     \u001b[1;32mraise\u001b[0m \u001b[0mIOError\u001b[0m\u001b[1;33m(\u001b[0m\u001b[0mErrors\u001b[0m\u001b[1;33m.\u001b[0m\u001b[0mE050\u001b[0m\u001b[1;33m.\u001b[0m\u001b[0mformat\u001b[0m\u001b[1;33m(\u001b[0m\u001b[0mname\u001b[0m\u001b[1;33m=\u001b[0m\u001b[0mname\u001b[0m\u001b[1;33m)\u001b[0m\u001b[1;33m)\u001b[0m\u001b[1;33m\u001b[0m\u001b[1;33m\u001b[0m\u001b[0m\n\u001b[0m\u001b[0;32m    329\u001b[0m \u001b[1;33m\u001b[0m\u001b[0m\n\u001b[0;32m    330\u001b[0m \u001b[1;33m\u001b[0m\u001b[0m\n",
      "\u001b[1;31mOSError\u001b[0m: [E050] Can't find model 'da_core_news_md'. It doesn't seem to be a Python package or a valid path to a data directory."
     ]
    }
   ],
   "source": [
    "import spacy\n",
    "\n",
    "nlp = spacy.load(\"da_core_news_md\")"
   ]
  },
  {
   "cell_type": "code",
   "execution_count": 15,
   "metadata": {},
   "outputs": [
    {
     "name": "stdout",
     "output_type": "stream",
     "text": [
      "Collecting da-core-news-sm==3.1.0\n",
      "  Downloading https://github.com/explosion/spacy-models/releases/download/da_core_news_sm-3.1.0/da_core_news_sm-3.1.0-py3-none-any.whl (18.8 MB)\n",
      "Requirement already satisfied: spacy<3.2.0,>=3.1.0 in c:\\users\\sarah\\anaconda3\\lib\\site-packages (from da-core-news-sm==3.1.0) (3.1.2)\n",
      "Requirement already satisfied: numpy>=1.15.0 in c:\\users\\sarah\\anaconda3\\lib\\site-packages (from spacy<3.2.0,>=3.1.0->da-core-news-sm==3.1.0) (1.21.2)\n",
      "Requirement already satisfied: catalogue<2.1.0,>=2.0.4 in c:\\users\\sarah\\anaconda3\\lib\\site-packages (from spacy<3.2.0,>=3.1.0->da-core-news-sm==3.1.0) (2.0.5)\n",
      "Requirement already satisfied: pathy>=0.3.5 in c:\\users\\sarah\\anaconda3\\lib\\site-packages (from spacy<3.2.0,>=3.1.0->da-core-news-sm==3.1.0) (0.6.0)\n",
      "Requirement already satisfied: tqdm<5.0.0,>=4.38.0 in c:\\users\\sarah\\appdata\\roaming\\python\\python38\\site-packages (from spacy<3.2.0,>=3.1.0->da-core-news-sm==3.1.0) (4.51.0)\n",
      "Requirement already satisfied: requests<3.0.0,>=2.13.0 in c:\\users\\sarah\\anaconda3\\lib\\site-packages (from spacy<3.2.0,>=3.1.0->da-core-news-sm==3.1.0) (2.24.0)\n",
      "Requirement already satisfied: wasabi<1.1.0,>=0.8.1 in c:\\users\\sarah\\anaconda3\\lib\\site-packages (from spacy<3.2.0,>=3.1.0->da-core-news-sm==3.1.0) (0.8.2)\n",
      "Requirement already satisfied: jinja2 in c:\\users\\sarah\\anaconda3\\lib\\site-packages (from spacy<3.2.0,>=3.1.0->da-core-news-sm==3.1.0) (2.11.2)\n",
      "Requirement already satisfied: thinc<8.1.0,>=8.0.8 in c:\\users\\sarah\\anaconda3\\lib\\site-packages (from spacy<3.2.0,>=3.1.0->da-core-news-sm==3.1.0) (8.0.10)\n",
      "Requirement already satisfied: pydantic!=1.8,!=1.8.1,<1.9.0,>=1.7.4 in c:\\users\\sarah\\anaconda3\\lib\\site-packages (from spacy<3.2.0,>=3.1.0->da-core-news-sm==3.1.0) (1.7.4)\n",
      "Requirement already satisfied: cymem<2.1.0,>=2.0.2 in c:\\users\\sarah\\anaconda3\\lib\\site-packages (from spacy<3.2.0,>=3.1.0->da-core-news-sm==3.1.0) (2.0.5)\n",
      "Requirement already satisfied: blis<0.8.0,>=0.4.0 in c:\\users\\sarah\\anaconda3\\lib\\site-packages (from spacy<3.2.0,>=3.1.0->da-core-news-sm==3.1.0) (0.7.4)\n",
      "Requirement already satisfied: packaging>=20.0 in c:\\users\\sarah\\anaconda3\\lib\\site-packages (from spacy<3.2.0,>=3.1.0->da-core-news-sm==3.1.0) (20.4)\n",
      "Requirement already satisfied: setuptools in c:\\users\\sarah\\anaconda3\\lib\\site-packages (from spacy<3.2.0,>=3.1.0->da-core-news-sm==3.1.0) (49.2.0.post20200714)\n",
      "Requirement already satisfied: typer<0.4.0,>=0.3.0 in c:\\users\\sarah\\anaconda3\\lib\\site-packages (from spacy<3.2.0,>=3.1.0->da-core-news-sm==3.1.0) (0.3.2)\n",
      "Requirement already satisfied: spacy-legacy<3.1.0,>=3.0.7 in c:\\users\\sarah\\anaconda3\\lib\\site-packages (from spacy<3.2.0,>=3.1.0->da-core-news-sm==3.1.0) (3.0.8)\n",
      "Requirement already satisfied: preshed<3.1.0,>=3.0.2 in c:\\users\\sarah\\anaconda3\\lib\\site-packages (from spacy<3.2.0,>=3.1.0->da-core-news-sm==3.1.0) (3.0.5)\n",
      "Requirement already satisfied: murmurhash<1.1.0,>=0.28.0 in c:\\users\\sarah\\anaconda3\\lib\\site-packages (from spacy<3.2.0,>=3.1.0->da-core-news-sm==3.1.0) (1.0.5)\n",
      "Requirement already satisfied: srsly<3.0.0,>=2.4.1 in c:\\users\\sarah\\anaconda3\\lib\\site-packages (from spacy<3.2.0,>=3.1.0->da-core-news-sm==3.1.0) (2.4.1)\n",
      "Requirement already satisfied: smart-open<6.0.0,>=5.0.0 in c:\\users\\sarah\\anaconda3\\lib\\site-packages (from pathy>=0.3.5->spacy<3.2.0,>=3.1.0->da-core-news-sm==3.1.0) (5.2.1)\n",
      "Requirement already satisfied: urllib3!=1.25.0,!=1.25.1,<1.26,>=1.21.1 in c:\\users\\sarah\\anaconda3\\lib\\site-packages (from requests<3.0.0,>=2.13.0->spacy<3.2.0,>=3.1.0->da-core-news-sm==3.1.0) (1.25.9)\n",
      "Requirement already satisfied: chardet<4,>=3.0.2 in c:\\users\\sarah\\anaconda3\\lib\\site-packages (from requests<3.0.0,>=2.13.0->spacy<3.2.0,>=3.1.0->da-core-news-sm==3.1.0) (3.0.4)\n",
      "Requirement already satisfied: idna<3,>=2.5 in c:\\users\\sarah\\anaconda3\\lib\\site-packages (from requests<3.0.0,>=2.13.0->spacy<3.2.0,>=3.1.0->da-core-news-sm==3.1.0) (2.10)\n",
      "Requirement already satisfied: certifi>=2017.4.17 in c:\\users\\sarah\\anaconda3\\lib\\site-packages (from requests<3.0.0,>=2.13.0->spacy<3.2.0,>=3.1.0->da-core-news-sm==3.1.0) (2020.6.20)\n",
      "Requirement already satisfied: MarkupSafe>=0.23 in c:\\users\\sarah\\anaconda3\\lib\\site-packages (from jinja2->spacy<3.2.0,>=3.1.0->da-core-news-sm==3.1.0) (1.1.1)\n",
      "Requirement already satisfied: pyparsing>=2.0.2 in c:\\users\\sarah\\anaconda3\\lib\\site-packages (from packaging>=20.0->spacy<3.2.0,>=3.1.0->da-core-news-sm==3.1.0) (2.4.7)\n",
      "Requirement already satisfied: six in c:\\users\\sarah\\anaconda3\\lib\\site-packages (from packaging>=20.0->spacy<3.2.0,>=3.1.0->da-core-news-sm==3.1.0) (1.15.0)\n",
      "Requirement already satisfied: click<7.2.0,>=7.1.1 in c:\\users\\sarah\\appdata\\roaming\\python\\python38\\site-packages (from typer<0.4.0,>=0.3.0->spacy<3.2.0,>=3.1.0->da-core-news-sm==3.1.0) (7.1.2)\n",
      "Installing collected packages: da-core-news-sm\n",
      "  Attempting uninstall: da-core-news-sm\n",
      "    Found existing installation: da-core-news-sm 3.0.0\n",
      "    Uninstalling da-core-news-sm-3.0.0:\n",
      "      Successfully uninstalled da-core-news-sm-3.0.0\n",
      "Successfully installed da-core-news-sm-3.1.0\n",
      "[+] Download and installation successful\n",
      "You can now load the package via spacy.load('da_core_news_sm')\n"
     ]
    }
   ],
   "source": [
    "!python -m spacy download da_core_news_sm\n",
    "nlp = spacy.load(\"da_core_news_sm\")"
   ]
  },
  {
   "cell_type": "code",
   "execution_count": 16,
   "metadata": {},
   "outputs": [],
   "source": [
    "file_list = glob.glob(os.path.join(os.getcwd(), \"C:\\\\Users\\\\Sarah\\\\Desktop\\\\Bachelor\\\\Ibsen\\\\data_ibsen_work\\\\txt\\\\brev_p\", \"BREV*.txt\"))\n",
    "\n",
    "text = []\n",
    "files = []\n",
    "\n",
    "for file_path in file_list:\n",
    "    with open(file_path, encoding = 'utf8') as f_input:\n",
    "        t = f_input.read()\n",
    "        text.append(t)\n",
    "        file = (''.join([n for n in os.path.basename(file_path)]))\n",
    "        file = re.sub('\\.txt', '', file) \n",
    "        files.append(file)"
   ]
  },
  {
   "cell_type": "code",
   "execution_count": 17,
   "metadata": {},
   "outputs": [],
   "source": [
    "\n",
    "ents = []\n",
    "\n",
    "for doc in nlp.pipe(text, disable=[\"tagger\", \"parser\", \"attribute_ruler\", \"lemmatizer\"]):\n",
    "    ents.append(([(e.label_, e.text) for e in doc.ents]))"
   ]
  },
  {
   "cell_type": "code",
   "execution_count": 18,
   "metadata": {},
   "outputs": [],
   "source": [
    "lists = {'files': files, 'text': text, 'spacy_small': ents}\n",
    "\n",
    "df = pd.DataFrame.from_dict(lists, orient = 'index')\n",
    "df = df.transpose()"
   ]
  },
  {
   "cell_type": "code",
   "execution_count": 19,
   "metadata": {},
   "outputs": [],
   "source": [
    "path = (r\"C:\\\\Users\\\\Sarah\\\\Desktop\\\\Bachelor\\\\Ibsen\\\\data_ibsen_work\\\\csv\\\\\")\n",
    "df.to_csv(os.path.join(r'brev_spacy_small.csv'), encoding = 'utf-8', index = False)"
   ]
  }
 ],
 "metadata": {
  "kernelspec": {
   "display_name": "Python 3",
   "language": "python",
   "name": "python3"
  },
  "language_info": {
   "codemirror_mode": {
    "name": "ipython",
    "version": 3
   },
   "file_extension": ".py",
   "mimetype": "text/x-python",
   "name": "python",
   "nbconvert_exporter": "python",
   "pygments_lexer": "ipython3",
   "version": "3.8.3"
  }
 },
 "nbformat": 4,
 "nbformat_minor": 4
}
