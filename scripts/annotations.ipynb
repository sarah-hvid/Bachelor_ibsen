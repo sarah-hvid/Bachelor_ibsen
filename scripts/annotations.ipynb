{
 "cells": [
  {
   "cell_type": "markdown",
   "metadata": {},
   "source": [
    "### This script samples the intermediate annotation CSV files for 30 letters from each time period. The df is then used to create the one-word-per-row annotation CSV files for each of the sampled letters."
   ]
  },
  {
   "cell_type": "code",
   "execution_count": null,
   "metadata": {},
   "outputs": [],
   "source": [
    "import re\n",
    "import os\n",
    "import glob\n",
    "import pandas as pd"
   ]
  },
  {
   "cell_type": "code",
   "execution_count": 13,
   "metadata": {},
   "outputs": [],
   "source": [
    "df = pd.read_csv('C:\\\\Users\\\\Sarah\\\\Desktop\\\\Bachelor\\\\Ibsen\\\\data_ibsen_work\\\\csv\\\\brev_for_annotations.csv', encoding = 'utf8')"
   ]
  },
  {
   "cell_type": "markdown",
   "metadata": {},
   "source": [
    "Some of the letters are empty. We don't want to sample these"
   ]
  },
  {
   "cell_type": "code",
   "execution_count": 14,
   "metadata": {},
   "outputs": [],
   "source": [
    "df = df.dropna()"
   ]
  },
  {
   "cell_type": "code",
   "execution_count": 15,
   "metadata": {},
   "outputs": [
    {
     "data": {
      "text/html": [
       "<div>\n",
       "<style scoped>\n",
       "    .dataframe tbody tr th:only-of-type {\n",
       "        vertical-align: middle;\n",
       "    }\n",
       "\n",
       "    .dataframe tbody tr th {\n",
       "        vertical-align: top;\n",
       "    }\n",
       "\n",
       "    .dataframe thead th {\n",
       "        text-align: right;\n",
       "    }\n",
       "</style>\n",
       "<table border=\"1\" class=\"dataframe\">\n",
       "  <thead>\n",
       "    <tr style=\"text-align: right;\">\n",
       "      <th></th>\n",
       "      <th>files</th>\n",
       "      <th>text</th>\n",
       "      <th>person</th>\n",
       "      <th>place</th>\n",
       "      <th>org</th>\n",
       "      <th>work</th>\n",
       "    </tr>\n",
       "  </thead>\n",
       "  <tbody>\n",
       "    <tr>\n",
       "      <th>2</th>\n",
       "      <td>BREV_B1844-1871ht_B18440520PL</td>\n",
       "      <td>Du maa virkelig undskylde, at jeg først nu bes...</td>\n",
       "      <td>['Hedevall', 'Reimann', 'Hans Kone', 'Johan', ...</td>\n",
       "      <td>['Grimstad', 'Skiens']</td>\n",
       "      <td>[]</td>\n",
       "      <td>[]</td>\n",
       "    </tr>\n",
       "    <tr>\n",
       "      <th>3</th>\n",
       "      <td>BREV_B1844-1871ht_B18441006HSte</td>\n",
       "      <td>Tilgiv at jeg ikke før har besvaret Dit Brev, ...</td>\n",
       "      <td>['Reimann', 'Mdm Reimann']</td>\n",
       "      <td>[]</td>\n",
       "      <td>[]</td>\n",
       "      <td>[]</td>\n",
       "    </tr>\n",
       "    <tr>\n",
       "      <th>4</th>\n",
       "      <td>BREV_B1844-1871ht_B18450801AWE</td>\n",
       "      <td>Jomfru M: Wahl hilses venskabeligst fra</td>\n",
       "      <td>[]</td>\n",
       "      <td>[]</td>\n",
       "      <td>[]</td>\n",
       "      <td>[]</td>\n",
       "    </tr>\n",
       "    <tr>\n",
       "      <th>5</th>\n",
       "      <td>BREV_B1844-1871ht_B18461207JCP</td>\n",
       "      <td>Opfordret af Deres Velbaarenhed til at erklære...</td>\n",
       "      <td>['Pigen Else Sophie Jensdatter Birkedalen', 'H...</td>\n",
       "      <td>['Grimstad', 'Skien']</td>\n",
       "      <td>[]</td>\n",
       "      <td>[]</td>\n",
       "    </tr>\n",
       "    <tr>\n",
       "      <th>6</th>\n",
       "      <td>BREV_B1844-1871ht_B18491015OS</td>\n",
       "      <td>Dit sidste Brev har i dobbelt Henseende glædet...</td>\n",
       "      <td>['Due']</td>\n",
       "      <td>[]</td>\n",
       "      <td>[]</td>\n",
       "      <td>['C.']</td>\n",
       "    </tr>\n",
       "    <tr>\n",
       "      <th>...</th>\n",
       "      <td>...</td>\n",
       "      <td>...</td>\n",
       "      <td>...</td>\n",
       "      <td>...</td>\n",
       "      <td>...</td>\n",
       "      <td>...</td>\n",
       "    </tr>\n",
       "    <tr>\n",
       "      <th>2444</th>\n",
       "      <td>BREV_B1890-1905ht_BudatNN_Hjerteligste</td>\n",
       "      <td>Hjerteligste ønsker!Tør desværre ikke selv per...</td>\n",
       "      <td>[]</td>\n",
       "      <td>[]</td>\n",
       "      <td>[]</td>\n",
       "      <td>[]</td>\n",
       "    </tr>\n",
       "    <tr>\n",
       "      <th>2445</th>\n",
       "      <td>BREV_B1890-1905ht_BudatNN_Med_udtrykket</td>\n",
       "      <td>Med udtrykket af min sympati for komitéens smu...</td>\n",
       "      <td>[]</td>\n",
       "      <td>[]</td>\n",
       "      <td>[]</td>\n",
       "      <td>[]</td>\n",
       "    </tr>\n",
       "    <tr>\n",
       "      <th>2446</th>\n",
       "      <td>BREV_B1890-1905ht_BudatNN_Tallene</td>\n",
       "      <td>Tallene må utvilsomt være skrevne af mig selv ...</td>\n",
       "      <td>[]</td>\n",
       "      <td>[]</td>\n",
       "      <td>[]</td>\n",
       "      <td>[]</td>\n",
       "    </tr>\n",
       "    <tr>\n",
       "      <th>2447</th>\n",
       "      <td>BREV_B1890-1905ht_BudatNN_Wenn_Sie</td>\n",
       "      <td>Wenn Sie keine andere Verwendung für Ihre Zeit...</td>\n",
       "      <td>[]</td>\n",
       "      <td>[]</td>\n",
       "      <td>[]</td>\n",
       "      <td>[]</td>\n",
       "    </tr>\n",
       "    <tr>\n",
       "      <th>2448</th>\n",
       "      <td>BREV_B1890-1905ht_BudatWA</td>\n",
       "      <td>Hjertelig velkommen når De vil! For resten vil...</td>\n",
       "      <td>[]</td>\n",
       "      <td>[]</td>\n",
       "      <td>[]</td>\n",
       "      <td>[]</td>\n",
       "    </tr>\n",
       "  </tbody>\n",
       "</table>\n",
       "<p>2402 rows × 6 columns</p>\n",
       "</div>"
      ],
      "text/plain": [
       "                                        files  \\\n",
       "2               BREV_B1844-1871ht_B18440520PL   \n",
       "3             BREV_B1844-1871ht_B18441006HSte   \n",
       "4              BREV_B1844-1871ht_B18450801AWE   \n",
       "5              BREV_B1844-1871ht_B18461207JCP   \n",
       "6               BREV_B1844-1871ht_B18491015OS   \n",
       "...                                       ...   \n",
       "2444   BREV_B1890-1905ht_BudatNN_Hjerteligste   \n",
       "2445  BREV_B1890-1905ht_BudatNN_Med_udtrykket   \n",
       "2446        BREV_B1890-1905ht_BudatNN_Tallene   \n",
       "2447       BREV_B1890-1905ht_BudatNN_Wenn_Sie   \n",
       "2448                BREV_B1890-1905ht_BudatWA   \n",
       "\n",
       "                                                   text  \\\n",
       "2     Du maa virkelig undskylde, at jeg først nu bes...   \n",
       "3     Tilgiv at jeg ikke før har besvaret Dit Brev, ...   \n",
       "4               Jomfru M: Wahl hilses venskabeligst fra   \n",
       "5     Opfordret af Deres Velbaarenhed til at erklære...   \n",
       "6     Dit sidste Brev har i dobbelt Henseende glædet...   \n",
       "...                                                 ...   \n",
       "2444  Hjerteligste ønsker!Tør desværre ikke selv per...   \n",
       "2445  Med udtrykket af min sympati for komitéens smu...   \n",
       "2446  Tallene må utvilsomt være skrevne af mig selv ...   \n",
       "2447  Wenn Sie keine andere Verwendung für Ihre Zeit...   \n",
       "2448  Hjertelig velkommen når De vil! For resten vil...   \n",
       "\n",
       "                                                 person  \\\n",
       "2     ['Hedevall', 'Reimann', 'Hans Kone', 'Johan', ...   \n",
       "3                            ['Reimann', 'Mdm Reimann']   \n",
       "4                                                    []   \n",
       "5     ['Pigen Else Sophie Jensdatter Birkedalen', 'H...   \n",
       "6                                               ['Due']   \n",
       "...                                                 ...   \n",
       "2444                                                 []   \n",
       "2445                                                 []   \n",
       "2446                                                 []   \n",
       "2447                                                 []   \n",
       "2448                                                 []   \n",
       "\n",
       "                       place org    work  \n",
       "2     ['Grimstad', 'Skiens']  []      []  \n",
       "3                         []  []      []  \n",
       "4                         []  []      []  \n",
       "5      ['Grimstad', 'Skien']  []      []  \n",
       "6                         []  []  ['C.']  \n",
       "...                      ...  ..     ...  \n",
       "2444                      []  []      []  \n",
       "2445                      []  []      []  \n",
       "2446                      []  []      []  \n",
       "2447                      []  []      []  \n",
       "2448                      []  []      []  \n",
       "\n",
       "[2402 rows x 6 columns]"
      ]
     },
     "execution_count": 15,
     "metadata": {},
     "output_type": "execute_result"
    }
   ],
   "source": [
    "df"
   ]
  },
  {
   "cell_type": "markdown",
   "metadata": {},
   "source": [
    "Sampling 30 files from each time period"
   ]
  },
  {
   "cell_type": "code",
   "execution_count": 6,
   "metadata": {},
   "outputs": [],
   "source": [
    "df_1844_1871 = df[df['files'].str.contains(\"1844-1871\")]\n",
    "\n",
    "s1 = df_1844_1871.sample(30, random_state = 1)"
   ]
  },
  {
   "cell_type": "code",
   "execution_count": 7,
   "metadata": {},
   "outputs": [],
   "source": [
    "df_1871_1879 = df[df['files'].str.contains(\"1871-1879\")]\n",
    "\n",
    "s2 = df_1871_1879.sample(30, random_state = 1)"
   ]
  },
  {
   "cell_type": "code",
   "execution_count": 8,
   "metadata": {},
   "outputs": [],
   "source": [
    "df_1880_1889 = df[df['files'].str.contains(\"1880-1889\")]\n",
    "\n",
    "s3 = df_1880_1889.sample(30, random_state = 1)"
   ]
  },
  {
   "cell_type": "code",
   "execution_count": 9,
   "metadata": {},
   "outputs": [],
   "source": [
    "df_1890_1905 = df[df['files'].str.contains(\"1890-1905\")]\n",
    "\n",
    "s4 = df_1890_1905.sample(30, random_state = 1)"
   ]
  },
  {
   "cell_type": "code",
   "execution_count": 10,
   "metadata": {},
   "outputs": [],
   "source": [
    "df_samples = pd.concat([s1, s2, s3, s4], axis=0)"
   ]
  },
  {
   "cell_type": "code",
   "execution_count": 11,
   "metadata": {},
   "outputs": [],
   "source": [
    "df_samples\n",
    "df_samples.dropna(subset = [\"text\"], inplace=True)"
   ]
  },
  {
   "cell_type": "code",
   "execution_count": 12,
   "metadata": {},
   "outputs": [],
   "source": [
    "files = df_samples.files\n",
    "files = files.values.tolist()"
   ]
  },
  {
   "cell_type": "markdown",
   "metadata": {},
   "source": [
    "Creating a CSV annotation file for each sampled letter"
   ]
  },
  {
   "cell_type": "code",
   "execution_count": 85,
   "metadata": {},
   "outputs": [],
   "source": [
    "path = (r\"C:\\\\Users\\\\Sarah\\\\Desktop\\\\Bachelor\\\\Ibsen\\\\data_ibsen_work\\\\annotations\\\\\")\n",
    "\n",
    "\n",
    "for i,r in df.iterrows():\n",
    "    file = r['files']\n",
    "    file = re.sub('\\.txt', '', file)\n",
    "    \n",
    "    person = r['person']\n",
    "    place = r['place']\n",
    "    org = r['org']\n",
    "    work = r['work']\n",
    "    \n",
    "    df = pd.DataFrame(r['text'].split()).stack()\n",
    "    df_split = pd.DataFrame(df)\n",
    "    \n",
    "    df_split['human_annotation'] = ''\n",
    "    df_split['who'] = ''\n",
    "    df_split['dacy_medium'] = ''\n",
    "    df_split['spacy_trf'] = ''\n",
    "    \n",
    "    df_split['person'] = person\n",
    "    df_split['place'] = place\n",
    "    df_split['org'] = org\n",
    "    df_split['work'] = work\n",
    "    \n",
    "    df_split.to_csv(path + F\"{file}.csv\")\n",
    "    "
   ]
  }
 ],
 "metadata": {
  "kernelspec": {
   "display_name": "Python 3",
   "language": "python",
   "name": "python3"
  },
  "language_info": {
   "codemirror_mode": {
    "name": "ipython",
    "version": 3
   },
   "file_extension": ".py",
   "mimetype": "text/x-python",
   "name": "python",
   "nbconvert_exporter": "python",
   "pygments_lexer": "ipython3",
   "version": "3.8.3"
  }
 },
 "nbformat": 4,
 "nbformat_minor": 4
}
